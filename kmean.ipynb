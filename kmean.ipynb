{
  "nbformat": 4,
  "nbformat_minor": 0,
  "metadata": {
    "colab": {
      "name": "kmean",
      "provenance": []
    },
    "kernelspec": {
      "name": "python3",
      "display_name": "Python 3"
    },
    "accelerator": "TPU"
  },
  "cells": [
    {
      "cell_type": "code",
      "metadata": {
        "id": "w-ZcrUissZD_",
        "colab_type": "code",
        "colab": {}
      },
      "source": [
        "import numpy as np\n",
        "import pandas as pd\n",
        "import seaborn as sns\n",
        "import matplotlib.pyplot as plt\n",
        "%matplotlib inline\n"
      ],
      "execution_count": 0,
      "outputs": []
    },
    {
      "cell_type": "code",
      "metadata": {
        "id": "0HjD9oVoszIb",
        "colab_type": "code",
        "colab": {
          "base_uri": "https://localhost:8080/",
          "height": 206
        },
        "outputId": "ed87565b-f5dc-4ec9-f521-75369e507f75"
      },
      "source": [
        "raw='https://raw.githubusercontent.com/laxmimerit/K-Mean-Clustering-in-Python-KGP-Talkie-Crash-Course/master/data.csv'\n",
        "\n",
        "data=pd.read_csv(raw)\n",
        "\n",
        "data.head()"
      ],
      "execution_count": 2,
      "outputs": [
        {
          "output_type": "execute_result",
          "data": {
            "text/html": [
              "<div>\n",
              "<style scoped>\n",
              "    .dataframe tbody tr th:only-of-type {\n",
              "        vertical-align: middle;\n",
              "    }\n",
              "\n",
              "    .dataframe tbody tr th {\n",
              "        vertical-align: top;\n",
              "    }\n",
              "\n",
              "    .dataframe thead th {\n",
              "        text-align: right;\n",
              "    }\n",
              "</style>\n",
              "<table border=\"1\" class=\"dataframe\">\n",
              "  <thead>\n",
              "    <tr style=\"text-align: right;\">\n",
              "      <th></th>\n",
              "      <th>Unnamed: 0</th>\n",
              "      <th>x</th>\n",
              "      <th>y</th>\n",
              "      <th>cluster</th>\n",
              "    </tr>\n",
              "  </thead>\n",
              "  <tbody>\n",
              "    <tr>\n",
              "      <th>0</th>\n",
              "      <td>0</td>\n",
              "      <td>-8.482852</td>\n",
              "      <td>-5.603349</td>\n",
              "      <td>2</td>\n",
              "    </tr>\n",
              "    <tr>\n",
              "      <th>1</th>\n",
              "      <td>1</td>\n",
              "      <td>-7.751632</td>\n",
              "      <td>-8.405334</td>\n",
              "      <td>2</td>\n",
              "    </tr>\n",
              "    <tr>\n",
              "      <th>2</th>\n",
              "      <td>2</td>\n",
              "      <td>-10.967098</td>\n",
              "      <td>-9.032782</td>\n",
              "      <td>2</td>\n",
              "    </tr>\n",
              "    <tr>\n",
              "      <th>3</th>\n",
              "      <td>3</td>\n",
              "      <td>-11.999447</td>\n",
              "      <td>-7.606734</td>\n",
              "      <td>2</td>\n",
              "    </tr>\n",
              "    <tr>\n",
              "      <th>4</th>\n",
              "      <td>4</td>\n",
              "      <td>-1.736810</td>\n",
              "      <td>10.478015</td>\n",
              "      <td>1</td>\n",
              "    </tr>\n",
              "  </tbody>\n",
              "</table>\n",
              "</div>"
            ],
            "text/plain": [
              "   Unnamed: 0          x          y  cluster\n",
              "0           0  -8.482852  -5.603349        2\n",
              "1           1  -7.751632  -8.405334        2\n",
              "2           2 -10.967098  -9.032782        2\n",
              "3           3 -11.999447  -7.606734        2\n",
              "4           4  -1.736810  10.478015        1"
            ]
          },
          "metadata": {
            "tags": []
          },
          "execution_count": 2
        }
      ]
    },
    {
      "cell_type": "code",
      "metadata": {
        "id": "4cRj5O7as-Rk",
        "colab_type": "code",
        "colab": {
          "base_uri": "https://localhost:8080/",
          "height": 86
        },
        "outputId": "b5ecd940-c586-4b64-cd9a-ec166b071068"
      },
      "source": [
        "data['cluster'].value_counts()"
      ],
      "execution_count": 8,
      "outputs": [
        {
          "output_type": "execute_result",
          "data": {
            "text/plain": [
              "1    67\n",
              "0    67\n",
              "2    66\n",
              "Name: cluster, dtype: int64"
            ]
          },
          "metadata": {
            "tags": []
          },
          "execution_count": 8
        }
      ]
    },
    {
      "cell_type": "code",
      "metadata": {
        "id": "yrohuQH8tKAh",
        "colab_type": "code",
        "colab": {
          "base_uri": "https://localhost:8080/",
          "height": 286
        },
        "outputId": "592bf755-d163-4ce5-cc30-15a92f526ca2"
      },
      "source": [
        "plt.scatter(data['x'], data['y'], c=data['cluster'], cmap=\"viridis\")"
      ],
      "execution_count": 10,
      "outputs": [
        {
          "output_type": "execute_result",
          "data": {
            "text/plain": [
              "<matplotlib.collections.PathCollection at 0x7f8315e23eb8>"
            ]
          },
          "metadata": {
            "tags": []
          },
          "execution_count": 10
        },
        {
          "output_type": "display_data",
          "data": {
            "image/png": "[encoded data removed]",
            "text/plain": [
              "<Figure size 432x288 with 1 Axes>"
            ]
          },
          "metadata": {
            "tags": []
          }
        }
      ]
    },
    {
      "cell_type": "code",
      "metadata": {
        "id": "zO68w0ssuHjI",
        "colab_type": "code",
        "colab": {}
      },
      "source": [
        "x=data[['x','y']]"
      ],
      "execution_count": 0,
      "outputs": []
    },
    {
      "cell_type": "code",
      "metadata": {
        "id": "RzyPXh8AvFsk",
        "colab_type": "code",
        "colab": {}
      },
      "source": [
        "y=data['cluster']"
      ],
      "execution_count": 0,
      "outputs": []
    },
    {
      "cell_type": "code",
      "metadata": {
        "id": "iPjTciAlvJJ-",
        "colab_type": "code",
        "colab": {}
      },
      "source": [
        "from sklearn.preprocessing import StandardScaler"
      ],
      "execution_count": 0,
      "outputs": []
    },
    {
      "cell_type": "code",
      "metadata": {
        "id": "IIxqGSJZvSG_",
        "colab_type": "code",
        "colab": {
          "base_uri": "https://localhost:8080/",
          "height": 1000
        },
        "outputId": "298d93c3-a7fc-4898-cbf3-ebba6ffff017"
      },
      "source": [
        "scaler= StandardScaler()\n",
        "fit=scaler.fit_transform(x)\n",
        "fit"
      ],
      "execution_count": 14,
      "outputs": [
        {
          "output_type": "execute_result",
          "data": {
            "text/plain": [
              "array([[-1.01200363, -0.60606415],\n",
              "       [-0.86550679, -1.04265203],\n",
              "       [-1.5097118 , -1.14041707],\n",
              "       [-1.71653856, -0.91821912],\n",
              "       [ 0.33953731,  1.89963378],\n",
              "       [ 0.38183922,  1.1890842 ],\n",
              "       [ 0.24668446, -0.74232845],\n",
              "       [-1.44313178, -0.76182643],\n",
              "       [ 0.32130834, -0.75849023],\n",
              "       [ 0.83110494,  1.27684537],\n",
              "       [ 0.31775088, -0.39338956],\n",
              "       [ 1.20365218, -0.4290876 ],\n",
              "       [-0.07305683,  1.51966781],\n",
              "       [ 0.63827173,  0.98134203],\n",
              "       [ 1.52205697, -0.42280098],\n",
              "       [ 0.17043691,  1.06578799],\n",
              "       [ 1.5381542 , -0.52935538],\n",
              "       [ 0.27161133, -0.71651135],\n",
              "       [-1.35289151, -0.93641563],\n",
              "       [ 0.79308339, -0.35212834],\n",
              "       [ 0.14633873,  2.31330628],\n",
              "       [ 1.14228061, -0.30354302],\n",
              "       [ 1.12503491, -0.04177872],\n",
              "       [-1.17977302, -1.09578279],\n",
              "       [-2.01238779, -0.86540408],\n",
              "       [ 0.19152374,  1.57228952],\n",
              "       [ 0.83261025,  1.80799546],\n",
              "       [ 0.66508288, -0.6110459 ],\n",
              "       [-1.12827817, -0.15250042],\n",
              "       [ 0.52241815, -0.65585313],\n",
              "       [ 1.08583214,  0.93547726],\n",
              "       [-0.97693538, -0.88741691],\n",
              "       [-1.33595694, -0.63086238],\n",
              "       [ 0.19953335,  1.28083486],\n",
              "       [-0.94950185, -0.56065403],\n",
              "       [ 0.66982823, -0.13484351],\n",
              "       [ 0.771665  , -0.5499059 ],\n",
              "       [ 0.2774257 ,  1.22860396],\n",
              "       [-0.73472586, -1.2187408 ],\n",
              "       [-0.63187335, -1.00655651],\n",
              "       [-0.69416438, -1.0000677 ],\n",
              "       [ 0.83271023, -0.6731856 ],\n",
              "       [-1.23344655, -1.15789171],\n",
              "       [ 0.65096239, -0.19455043],\n",
              "       [-1.39325586, -1.1523753 ],\n",
              "       [-1.49484828, -0.92704231],\n",
              "       [-1.45695253, -0.70502951],\n",
              "       [ 0.5305949 ,  0.81280245],\n",
              "       [ 0.83400406, -0.42253729],\n",
              "       [ 0.48904363,  1.24633059],\n",
              "       [ 1.23175068, -0.82532629],\n",
              "       [ 0.69624505, -0.30159923],\n",
              "       [ 0.39391193, -0.396964  ],\n",
              "       [ 0.79094876,  1.60143791],\n",
              "       [ 0.15899074,  1.26432118],\n",
              "       [ 0.39413305,  1.76704755],\n",
              "       [ 0.86405762, -0.59555499],\n",
              "       [-2.03584663, -0.69245567],\n",
              "       [ 0.59854512,  1.21885094],\n",
              "       [ 0.46524738,  1.14933569],\n",
              "       [ 1.13205009, -0.79021258],\n",
              "       [-0.43326051,  1.24378251],\n",
              "       [ 1.18403178, -0.2105801 ],\n",
              "       [ 1.104018  , -0.45293091],\n",
              "       [ 0.90917625, -0.41741704],\n",
              "       [ 0.24940112,  1.47054385],\n",
              "       [-1.34378511, -0.96019197],\n",
              "       [-1.15864684, -0.53793509],\n",
              "       [-1.38106913, -1.24446575],\n",
              "       [ 1.32888112, -0.15656749],\n",
              "       [-1.97542172, -0.86113934],\n",
              "       [ 0.55709844,  0.94043404],\n",
              "       [-1.16375964, -1.04708045],\n",
              "       [-0.92116118, -0.60408404],\n",
              "       [ 0.19744613, -0.320971  ],\n",
              "       [-1.17058201, -0.94932292],\n",
              "       [-1.30394578, -0.6337949 ],\n",
              "       [-1.3764337 , -0.98303292],\n",
              "       [ 0.29643725, -0.16983389],\n",
              "       [-1.48660911, -1.07632091],\n",
              "       [ 0.88544854,  0.85471602],\n",
              "       [ 0.9006815 , -0.4157147 ],\n",
              "       [ 0.2206326 ,  1.52350226],\n",
              "       [ 1.13326512,  1.24514921],\n",
              "       [ 1.59514484, -0.57810326],\n",
              "       [ 0.15529192, -0.46145428],\n",
              "       [ 1.07078756, -0.73342709],\n",
              "       [-1.84390846, -0.81992791],\n",
              "       [ 0.90990583,  1.40916629],\n",
              "       [ 0.3576306 , -0.73136536],\n",
              "       [ 1.29042424, -0.89780574],\n",
              "       [-1.36084266, -0.77007109],\n",
              "       [-1.0236826 , -1.24868072],\n",
              "       [ 0.7946996 , -1.12120567],\n",
              "       [ 0.79884711,  1.66676256],\n",
              "       [ 0.99941321,  1.13889426],\n",
              "       [-1.36837982, -1.15198567],\n",
              "       [-0.3156759 , -1.46559894],\n",
              "       [ 0.70861868, -0.75627388],\n",
              "       [-0.21082427, -0.41430294],\n",
              "       [ 0.32589705,  1.68264012],\n",
              "       [ 0.66619897,  1.21855463],\n",
              "       [ 0.49361345,  0.86887702],\n",
              "       [ 0.5068162 , -0.32337893],\n",
              "       [ 0.74177357, -0.61694863],\n",
              "       [-1.2885399 , -0.96008709],\n",
              "       [ 1.02551131,  1.48533141],\n",
              "       [ 0.43201879,  1.6076944 ],\n",
              "       [ 1.08249536, -0.21716763],\n",
              "       [-0.15265406,  0.0228466 ],\n",
              "       [ 0.97586982, -0.63467294],\n",
              "       [-1.10238107, -0.75993911],\n",
              "       [ 0.24621536, -0.32010977],\n",
              "       [ 0.53736804,  1.0345916 ],\n",
              "       [ 1.21425236,  1.07790672],\n",
              "       [-0.00967353,  1.27374229],\n",
              "       [ 0.53207638,  1.10912864],\n",
              "       [-2.00277598, -1.07059812],\n",
              "       [ 1.33013807, -0.90971954],\n",
              "       [-1.25463745, -1.18101253],\n",
              "       [ 0.53775645,  1.29669311],\n",
              "       [ 0.27952731, -0.01116382],\n",
              "       [ 0.32201814,  1.62673893],\n",
              "       [ 0.4329941 , -0.57783171],\n",
              "       [ 0.57365299,  1.3368478 ],\n",
              "       [ 0.65082523,  1.46367753],\n",
              "       [ 0.65445327,  1.46194122],\n",
              "       [ 0.30583921,  0.15038392],\n",
              "       [ 0.58866226, -0.19466067],\n",
              "       [ 0.77058657, -0.65992081],\n",
              "       [-1.73473402, -0.85951427],\n",
              "       [ 1.21530606, -0.27942699],\n",
              "       [ 0.37146484,  1.57464784],\n",
              "       [ 0.13101932,  1.17557222],\n",
              "       [ 0.55048135, -0.073215  ],\n",
              "       [ 0.65268228, -0.76005108],\n",
              "       [-0.12524786,  1.16172152],\n",
              "       [ 0.9416221 , -0.8284188 ],\n",
              "       [ 0.72962605, -0.78012446],\n",
              "       [-0.7595301 , -1.02429527],\n",
              "       [ 0.42537401,  2.05365336],\n",
              "       [ 0.41686597,  1.17237934],\n",
              "       [-1.36156287, -0.58182547],\n",
              "       [-1.63215702, -0.80053828],\n",
              "       [ 0.16868097,  1.78349137],\n",
              "       [-1.25198849, -1.21104408],\n",
              "       [ 0.45461854,  1.24370166],\n",
              "       [-1.99356038, -0.90548851],\n",
              "       [ 0.84572607,  1.2164603 ],\n",
              "       [ 1.11029307, -0.23099879],\n",
              "       [-0.56892205, -0.70265972],\n",
              "       [ 0.93402653,  1.29095874],\n",
              "       [ 0.94118216, -0.72375673],\n",
              "       [ 0.23509561,  0.96041989],\n",
              "       [ 0.60301693,  1.08704203],\n",
              "       [-1.1171891 , -1.21457231],\n",
              "       [ 1.21399433,  1.29509665],\n",
              "       [-1.25249385, -0.47819655],\n",
              "       [-0.986743  , -0.98144191],\n",
              "       [-1.7860204 , -1.39231882],\n",
              "       [ 0.55320627,  1.41715403],\n",
              "       [-2.0662249 , -0.69934998],\n",
              "       [-1.29343007, -0.77757608],\n",
              "       [ 0.27276956,  0.9418664 ],\n",
              "       [ 0.5434236 , -0.41841969],\n",
              "       [ 1.44526084,  0.0087187 ],\n",
              "       [-0.34167386,  1.31912378],\n",
              "       [-1.77472219, -0.84542156],\n",
              "       [ 0.8071665 ,  1.92415722],\n",
              "       [-1.41813112, -0.95059979],\n",
              "       [ 0.26971005,  1.01953102],\n",
              "       [ 0.90067843, -0.28122456],\n",
              "       [ 0.65661936,  0.89004119],\n",
              "       [ 0.42245075, -0.4677546 ],\n",
              "       [-1.75542164, -0.6517002 ],\n",
              "       [ 0.57522939,  1.23645334],\n",
              "       [ 0.4217509 ,  1.70837732],\n",
              "       [-1.23985549, -0.31419264],\n",
              "       [-1.50342086, -0.14237115],\n",
              "       [ 0.77945616,  1.27706047],\n",
              "       [ 0.9279614 , -0.16082871],\n",
              "       [-1.39989229, -0.77754158],\n",
              "       [ 0.94719192, -0.41984737],\n",
              "       [-2.06564945, -0.83849631],\n",
              "       [-0.71883787, -0.62819834],\n",
              "       [-1.17765783, -1.01506935],\n",
              "       [ 0.70341832, -0.73729614],\n",
              "       [-1.26359243, -0.85907062],\n",
              "       [-1.08899436, -0.88801288],\n",
              "       [ 1.132047  , -0.55152432],\n",
              "       [ 0.52620981,  1.43321291],\n",
              "       [ 0.74377108, -0.4080321 ],\n",
              "       [ 0.77533462, -0.82445019],\n",
              "       [ 1.43342856, -0.2291756 ],\n",
              "       [ 0.72870678,  1.06563353],\n",
              "       [-1.07957503, -1.20998434],\n",
              "       [ 0.37227198, -0.76930174],\n",
              "       [ 0.16267793,  1.55547825],\n",
              "       [ 0.15970539,  1.31058228],\n",
              "       [-1.7069593 , -0.84258607]])"
            ]
          },
          "metadata": {
            "tags": []
          },
          "execution_count": 14
        }
      ]
    },
    {
      "cell_type": "code",
      "metadata": {
        "id": "q-tVAhn0vdZ8",
        "colab_type": "code",
        "colab": {}
      },
      "source": [
        "from sklearn.cluster import KMeans\n",
        "from sklearn.model_selection import train_test_split"
      ],
      "execution_count": 0,
      "outputs": []
    },
    {
      "cell_type": "code",
      "metadata": {
        "id": "CcTQM1QtwBWc",
        "colab_type": "code",
        "colab": {
          "base_uri": "https://localhost:8080/",
          "height": 173
        },
        "outputId": "60e3faea-c438-4be7-e3a5-916dd15eaf0c"
      },
      "source": [
        "sse=[]\n",
        "for i in range(1,10):\n",
        "    kmean=KMeans(n_clusters=i, random_state=42)\n",
        "    kmean.fit(fit)\n",
        "    sse.append(kmean.inertia_)\n",
        "    print(kmean.inertia_)"
      ],
      "execution_count": 20,
      "outputs": [
        {
          "output_type": "stream",
          "text": [
            "400.0000000000001\n",
            "156.41033617954912\n",
            "44.05704845329278\n",
            "36.85585101890133\n",
            "30.98979911778676\n",
            "25.240846029379913\n",
            "22.70858764162133\n",
            "19.8502123581499\n",
            "17.33673390955418\n"
          ],
          "name": "stdout"
        }
      ]
    },
    {
      "cell_type": "code",
      "metadata": {
        "id": "4bFiyiX3wmD0",
        "colab_type": "code",
        "colab": {
          "base_uri": "https://localhost:8080/",
          "height": 286
        },
        "outputId": "c55c192e-8b8b-4a9b-ddcf-057a97d38fe1"
      },
      "source": [
        "plt.plot(range(1,10), sse)"
      ],
      "execution_count": 21,
      "outputs": [
        {
          "output_type": "execute_result",
          "data": {
            "text/plain": [
              "[<matplotlib.lines.Line2D at 0x7f830d24f048>]"
            ]
          },
          "metadata": {
            "tags": []
          },
          "execution_count": 21
        },
        {
          "output_type": "display_data",
          "data": {
            "image/png": "[encoded data removed]",
            "text/plain": [
              "<Figure size 432x288 with 1 Axes>"
            ]
          },
          "metadata": {
            "tags": []
          }
        }
      ]
    },
    {
      "cell_type": "code",
      "metadata": {
        "id": "UinxVG4Fwt8w",
        "colab_type": "code",
        "colab": {}
      },
      "source": [
        ""
      ],
      "execution_count": 0,
      "outputs": []
    },
    {
      "cell_type": "code",
      "metadata": {
        "id": "IO-J0VySxYE3",
        "colab_type": "code",
        "colab": {
          "base_uri": "https://localhost:8080/",
          "height": 69
        },
        "outputId": "02f003e3-a72b-4576-b64b-4f3133234635"
      },
      "source": [
        "model=KMeans(n_clusters=3, random_state=42)\n",
        "model.fit(fit)\n"
      ],
      "execution_count": 28,
      "outputs": [
        {
          "output_type": "execute_result",
          "data": {
            "text/plain": [
              "KMeans(algorithm='auto', copy_x=True, init='k-means++', max_iter=300,\n",
              "       n_clusters=3, n_init=10, n_jobs=None, precompute_distances='auto',\n",
              "       random_state=42, tol=0.0001, verbose=0)"
            ]
          },
          "metadata": {
            "tags": []
          },
          "execution_count": 28
        }
      ]
    },
    {
      "cell_type": "code",
      "metadata": {
        "id": "UUBG0LYFx8Bn",
        "colab_type": "code",
        "colab": {
          "base_uri": "https://localhost:8080/",
          "height": 69
        },
        "outputId": "5b3619e3-c2b9-413d-a5c5-246fad9b8f53"
      },
      "source": [
        "center=model.cluster_centers_\n",
        "center"
      ],
      "execution_count": 29,
      "outputs": [
        {
          "output_type": "execute_result",
          "data": {
            "text/plain": [
              "array([[ 0.49211628,  1.33256907],\n",
              "       [-1.32303438, -0.88270323],\n",
              "       [ 0.77978594, -0.46921203]])"
            ]
          },
          "metadata": {
            "tags": []
          },
          "execution_count": 29
        }
      ]
    },
    {
      "cell_type": "code",
      "metadata": {
        "id": "xaBNbwzyyLS1",
        "colab_type": "code",
        "colab": {
          "base_uri": "https://localhost:8080/",
          "height": 286
        },
        "outputId": "a9db92b8-2876-43ba-c527-5c169a7837db"
      },
      "source": [
        "plt.scatter(data['x'], data['y'], c=model.labels_, cmap='viridis')"
      ],
      "execution_count": 30,
      "outputs": [
        {
          "output_type": "execute_result",
          "data": {
            "text/plain": [
              "<matplotlib.collections.PathCollection at 0x7f830d042240>"
            ]
          },
          "metadata": {
            "tags": []
          },
          "execution_count": 30
        },
        {
          "output_type": "display_data",
          "data": {
            "image/png": "[encoded data removed]",
            "text/plain": [
              "<Figure size 432x288 with 1 Axes>"
            ]
          },
          "metadata": {
            "tags": []
          }
        }
      ]
    },
    {
      "cell_type": "code",
      "metadata": {
        "id": "IXRcEjY6y0SG",
        "colab_type": "code",
        "colab": {}
      },
      "source": [
        ""
      ],
      "execution_count": 0,
      "outputs": []
    },
    {
      "cell_type": "code",
      "metadata": {
        "id": "mZpnG4Jgztr5",
        "colab_type": "code",
        "colab": {}
      },
      "source": [
        ""
      ],
      "execution_count": 0,
      "outputs": []
    },
    {
      "cell_type": "code",
      "metadata": {
        "id": "K1hP8KYuzym4",
        "colab_type": "code",
        "colab": {}
      },
      "source": [
        ""
      ],
      "execution_count": 0,
      "outputs": []
    },
    {
      "cell_type": "code",
      "metadata": {
        "id": "yzhoPl72z7Kh",
        "colab_type": "code",
        "colab": {}
      },
      "source": [
        ""
      ],
      "execution_count": 0,
      "outputs": []
    },
    {
      "cell_type": "code",
      "metadata": {
        "id": "Ba9viE6V0Jtc",
        "colab_type": "code",
        "colab": {}
      },
      "source": [
        ""
      ],
      "execution_count": 0,
      "outputs": []
    },
    {
      "cell_type": "code",
      "metadata": {
        "id": "L3N_ak1_19n-",
        "colab_type": "code",
        "colab": {}
      },
      "source": [
        ""
      ],
      "execution_count": 0,
      "outputs": []
    }
  ]
}